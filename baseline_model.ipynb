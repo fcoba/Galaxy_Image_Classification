{
 "cells": [
  {
   "cell_type": "markdown",
   "metadata": {},
   "source": [
    "# Galaxy Image Classification - Baseline Model"
   ]
  },
  {
   "cell_type": "markdown",
   "metadata": {},
   "source": [
    "This model was created to offer astronomers additional help in classifying galaxies so they don't have to manually look at all the photographic plates. Most models out there offer high accuracies but may not be the easiest to implement, I will try to make a user friendly model. "
   ]
  },
  {
   "cell_type": "markdown",
   "metadata": {},
   "source": [
    "### Column Descriptions\n",
    "\n",
    "**training_predictions**: Probability distributions for the classifications for each of the training images.\n",
    "\n",
    "**images_test**: JPG images of 79975 galaxies. Files are name according to their GalaxyId. You will provide probabilities for each of these images. (I don't use this)\n",
    "\n",
    "**images_train**: JPG images of 61578 galaxies. Files are named according to their GalaxyId."
   ]
  },
  {
   "cell_type": "markdown",
   "metadata": {},
   "source": [
    "### Importing Libraries"
   ]
  },
  {
   "cell_type": "code",
   "execution_count": null,
   "metadata": {},
   "outputs": [],
   "source": [
    "import numpy as np\n",
    "from sklearn.model_selection import train_test_split\n",
    "from keras.preprocessing.image import ImageDataGenerator\n",
    "from tqdm import tqdm #displays progress bar within for loops\n",
    "import matplotlib.pyplot as plt\n",
    "from skimage import io\n",
    "import pickle\n",
    "from skimage.transform import resize\n",
    "import glob\n",
    "import os\n",
    "%matplotlib inline \n",
    "import warnings\n",
    "warnings.filterwarnings('ignore')"
   ]
  },
  {
   "cell_type": "markdown",
   "metadata": {},
   "source": [
    "### Size of all images\n",
    "\n",
    "```python\n",
    "size = set()\n",
    "for filename in glob.glob('data/*.jpg'): \n",
    "    im=io.imread(filename).shape\n",
    "    size.add(im)``` \n",
    "\n",
    "size for all images are: {(424, 424, 3)}"
   ]
  },
  {
   "cell_type": "markdown",
   "metadata": {},
   "source": [
    "### Visualize the predictions"
   ]
  },
  {
   "cell_type": "code",
   "execution_count": null,
   "metadata": {
    "scrolled": true
   },
   "outputs": [],
   "source": [
    "import pandas as pd\n",
    "import numpy as np\n",
    "\n",
    "predictions = pd.read_csv('predictions.csv')\n",
    "predictions.head()"
   ]
  },
  {
   "cell_type": "markdown",
   "metadata": {},
   "source": [
    "There seems to be ambigious headings for our columns and the resources on Kaggle don't seem to help much. Essentially, the classes refer to the morphology on the galaxy. "
   ]
  },
  {
   "cell_type": "code",
   "execution_count": null,
   "metadata": {
    "scrolled": true
   },
   "outputs": [],
   "source": [
    "(predictions['Class1.1'] + predictions['Class1.2'] + predictions['Class1.3']).head()"
   ]
  },
  {
   "cell_type": "code",
   "execution_count": null,
   "metadata": {
    "scrolled": false
   },
   "outputs": [],
   "source": [
    "predictions = predictions[['GalaxyID','Class1.1', 'Class1.2', 'Class1.3']]\n",
    "predictions.head(10)"
   ]
  },
  {
   "cell_type": "markdown",
   "metadata": {},
   "source": [
    "Based on the images printed above, we can use our physics brain to determine what the columns stand for and rename the columns. "
   ]
  },
  {
   "cell_type": "code",
   "execution_count": null,
   "metadata": {
    "scrolled": false
   },
   "outputs": [],
   "source": [
    "predictions.columns = ['GalaxyID', 'Elliptical', 'Spiral', 'Irregular']\n",
    "predictions.head()"
   ]
  },
  {
   "cell_type": "markdown",
   "metadata": {},
   "source": [
    "If the value in the irregular was the max value for that row, we called it an irregular. \n",
    "\n",
    "Note: The following code below no longer works because the irregular folders are deleted. \n",
    "\n",
    "```python\n",
    "print('num in train elliptical = {}'.format(len(os.listdir('data/train/elliptical/'))))\n",
    "print('num in train spiral = {}'.format(len(os.listdir('data/train/spiral/'))))\n",
    "print('num in train irregular = {}'.format(len(os.listdir('data/train/irregular/'))))\n",
    "print('num in test elliptical = {}'.format(len(os.listdir('data/test/elliptical/'))))\n",
    "print('num in test spiral = {}'.format(len(os.listdir('data/test/spiral/'))))\n",
    "print('num in test irregular = {}'.format(len(os.listdir('data/test/irregular/'))))```\n",
    "\n",
    "num in train elliptical = 13237 <br>\n",
    "num in train spiral = 17526 <br>\n",
    "num in train irregular = 26 <br>\n",
    "num in test elliptical = 13456 <br>\n",
    "num in test spiral = 17300 <br>\n",
    "num in test irregular = 33 <br>\n",
    "\n",
    "For this, we can remove the irregular images since they make such a small portion of our over all dataset. "
   ]
  },
  {
   "cell_type": "markdown",
   "metadata": {},
   "source": [
    "Now, let's delete the irregular galaxies from the predictions (because we deleted their images). Then we will drop the \"Irregular\" column."
   ]
  },
  {
   "cell_type": "code",
   "execution_count": null,
   "metadata": {},
   "outputs": [],
   "source": [
    "len(predictions[(predictions.Irregular > predictions.Spiral) & (predictions.Irregular > predictions.Elliptical)])"
   ]
  },
  {
   "cell_type": "code",
   "execution_count": null,
   "metadata": {
    "scrolled": true
   },
   "outputs": [],
   "source": [
    "predictions[(predictions.Irregular > predictions.Spiral) & (predictions.Irregular > predictions.Elliptical)].head()"
   ]
  },
  {
   "cell_type": "code",
   "execution_count": null,
   "metadata": {},
   "outputs": [],
   "source": [
    "predictions.drop(predictions[(predictions.Irregular > predictions.Spiral) & (predictions.Irregular > predictions.Elliptical)].index,inplace=True)"
   ]
  },
  {
   "cell_type": "code",
   "execution_count": null,
   "metadata": {},
   "outputs": [],
   "source": [
    "predictions.drop(['Irregular'], axis=1, inplace=True)"
   ]
  },
  {
   "cell_type": "code",
   "execution_count": null,
   "metadata": {
    "scrolled": true
   },
   "outputs": [],
   "source": [
    "predictions.head()"
   ]
  },
  {
   "cell_type": "code",
   "execution_count": 1,
   "metadata": {},
   "outputs": [
    {
     "name": "stderr",
     "output_type": "stream",
     "text": [
      "Using TensorFlow backend.\n"
     ]
    }
   ],
   "source": [
    "import matplotlib.pyplot as plt\n",
    "import numpy as np\n",
    "import os, shutil\n",
    "from keras import models\n",
    "from keras import layers\n",
    "from sklearn.metrics import confusion_matrix, f1_score\n",
    "np.random.seed(123)\n",
    "from keras.models import load_model\n",
    "from keras.preprocessing.image import ImageDataGenerator, array_to_img, img_to_array, load_img"
   ]
  },
  {
   "cell_type": "code",
   "execution_count": 2,
   "metadata": {},
   "outputs": [
    {
     "name": "stdout",
     "output_type": "stream",
     "text": [
      "Found 24611 images belonging to 2 classes.\n",
      "Found 6152 images belonging to 2 classes.\n"
     ]
    }
   ],
   "source": [
    "# get all the data in the directory split/test, and reshape them\n",
    "datagen = ImageDataGenerator(validation_split=0.2,rescale=1./255)\n",
    "data_tr=datagen.flow_from_directory( \n",
    "        'data/train', \n",
    "        target_size=(106, 106), #actual image size \n",
    "        batch_size = 32,\n",
    "        subset='training',\n",
    "        seed = 123)\n",
    "\n",
    "data_val =datagen.flow_from_directory( \n",
    "        'data/train', \n",
    "        target_size=(106, 106), #actual image size \n",
    "        batch_size = 32,\n",
    "        subset='validation',\n",
    "        seed = 123)"
   ]
  },
  {
   "cell_type": "code",
   "execution_count": 3,
   "metadata": {},
   "outputs": [
    {
     "name": "stdout",
     "output_type": "stream",
     "text": [
      "Found 30756 images belonging to 2 classes.\n"
     ]
    }
   ],
   "source": [
    "data_te = ImageDataGenerator(rescale=1./255).flow_from_directory( \n",
    "        'data/test', \n",
    "        target_size=(106, 106), \n",
    "        batch_size = 32, \n",
    "        seed = 123) "
   ]
  },
  {
   "cell_type": "markdown",
   "metadata": {},
   "source": [
    "# Simple Neural Network -- Baseline"
   ]
  },
  {
   "cell_type": "code",
   "execution_count": 4,
   "metadata": {},
   "outputs": [
    {
     "name": "stderr",
     "output_type": "stream",
     "text": [
      "WARNING: Logging before flag parsing goes to stderr.\n",
      "W0717 23:52:33.976216 4326028736 deprecation_wrapper.py:119] From /anaconda3/lib/python3.7/site-packages/keras/backend/tensorflow_backend.py:74: The name tf.get_default_graph is deprecated. Please use tf.compat.v1.get_default_graph instead.\n",
      "\n"
     ]
    }
   ],
   "source": [
    "## initialize the model\n",
    "from keras.models import Sequential, Input\n",
    "from keras.layers import Dense\n",
    "model = Sequential()"
   ]
  },
  {
   "cell_type": "code",
   "execution_count": 5,
   "metadata": {},
   "outputs": [],
   "source": [
    "## prepare a placeholder for input\n",
    "# this is our input placeholder\n",
    "# inp = Input(shape=(212, 212,  3)) # here shape (212, 212,  3) means we specify only the number of rows but we can input as many columns as we would like\n"
   ]
  },
  {
   "cell_type": "markdown",
   "metadata": {},
   "source": [
    "## Architecture\n",
    "\n",
    "After flattening the images, we have a neural network with one hidden layer (128 neurons). The final, 2-neuron layer is our prediction layer."
   ]
  },
  {
   "cell_type": "code",
   "execution_count": 6,
   "metadata": {},
   "outputs": [
    {
     "name": "stderr",
     "output_type": "stream",
     "text": [
      "W0717 23:52:33.996934 4326028736 deprecation_wrapper.py:119] From /anaconda3/lib/python3.7/site-packages/keras/backend/tensorflow_backend.py:517: The name tf.placeholder is deprecated. Please use tf.compat.v1.placeholder instead.\n",
      "\n",
      "W0717 23:52:34.010070 4326028736 deprecation_wrapper.py:119] From /anaconda3/lib/python3.7/site-packages/keras/backend/tensorflow_backend.py:4138: The name tf.random_uniform is deprecated. Please use tf.random.uniform instead.\n",
      "\n"
     ]
    }
   ],
   "source": [
    "## Adding layers --> simple as .add()\n",
    "## Remember Dense means linear layer + activation\n",
    "## after the first layer, you don't need to specify\n",
    "model.add(layers.Flatten(input_shape=(106, 106,  3)))\n",
    "layer_1 = model.add(Dense(units=128, activation='relu')) # --> output will be (128, )\n",
    "layer_2 = model.add(Dense(units=2, activation='softmax'))# --> output will be (2, )"
   ]
  },
  {
   "cell_type": "code",
   "execution_count": 7,
   "metadata": {},
   "outputs": [
    {
     "name": "stderr",
     "output_type": "stream",
     "text": [
      "W0717 23:52:34.045701 4326028736 deprecation_wrapper.py:119] From /anaconda3/lib/python3.7/site-packages/keras/optimizers.py:790: The name tf.train.Optimizer is deprecated. Please use tf.compat.v1.train.Optimizer instead.\n",
      "\n"
     ]
    }
   ],
   "source": [
    "# Option I - gradient descent\n",
    "model.compile(loss='mean_squared_error',\n",
    "              optimizer='sgd',\n",
    "              metrics=['mae', 'acc'])"
   ]
  },
  {
   "cell_type": "code",
   "execution_count": 8,
   "metadata": {
    "scrolled": true
   },
   "outputs": [
    {
     "name": "stderr",
     "output_type": "stream",
     "text": [
      "W0717 23:52:34.246652 4326028736 deprecation_wrapper.py:119] From /anaconda3/lib/python3.7/site-packages/keras/backend/tensorflow_backend.py:986: The name tf.assign_add is deprecated. Please use tf.compat.v1.assign_add instead.\n",
      "\n",
      "W0717 23:52:34.259459 4326028736 deprecation_wrapper.py:119] From /anaconda3/lib/python3.7/site-packages/keras/backend/tensorflow_backend.py:973: The name tf.assign is deprecated. Please use tf.compat.v1.assign instead.\n",
      "\n"
     ]
    },
    {
     "name": "stdout",
     "output_type": "stream",
     "text": [
      "Epoch 1/50\n",
      "50/50 [==============================] - 8s 151ms/step - loss: 0.2410 - mean_absolute_error: 0.4866 - acc: 0.5800 - val_loss: 0.2346 - val_mean_absolute_error: 0.4792 - val_acc: 0.5975\n",
      "Epoch 2/50\n",
      "50/50 [==============================] - 7s 133ms/step - loss: 0.2324 - mean_absolute_error: 0.4761 - acc: 0.6419 - val_loss: 0.2247 - val_mean_absolute_error: 0.4674 - val_acc: 0.6462\n",
      "Epoch 3/50\n",
      "50/50 [==============================] - 7s 150ms/step - loss: 0.2258 - mean_absolute_error: 0.4664 - acc: 0.6519 - val_loss: 0.2281 - val_mean_absolute_error: 0.4696 - val_acc: 0.6613\n",
      "Epoch 4/50\n",
      "50/50 [==============================] - 8s 156ms/step - loss: 0.2163 - mean_absolute_error: 0.4518 - acc: 0.6750 - val_loss: 0.2177 - val_mean_absolute_error: 0.4458 - val_acc: 0.6491\n",
      "Epoch 5/50\n",
      "50/50 [==============================] - 7s 145ms/step - loss: 0.2127 - mean_absolute_error: 0.4441 - acc: 0.6950 - val_loss: 0.2111 - val_mean_absolute_error: 0.4426 - val_acc: 0.6881\n",
      "Epoch 6/50\n",
      "50/50 [==============================] - 8s 151ms/step - loss: 0.2125 - mean_absolute_error: 0.4429 - acc: 0.6819 - val_loss: 0.2135 - val_mean_absolute_error: 0.4412 - val_acc: 0.7075\n",
      "Epoch 7/50\n",
      "50/50 [==============================] - 8s 151ms/step - loss: 0.2072 - mean_absolute_error: 0.4332 - acc: 0.7037 - val_loss: 0.2061 - val_mean_absolute_error: 0.4291 - val_acc: 0.6900\n",
      "Epoch 8/50\n",
      "50/50 [==============================] - 8s 151ms/step - loss: 0.2117 - mean_absolute_error: 0.4345 - acc: 0.6963 - val_loss: 0.2096 - val_mean_absolute_error: 0.4321 - val_acc: 0.6986\n",
      "Epoch 9/50\n",
      "50/50 [==============================] - 8s 153ms/step - loss: 0.2107 - mean_absolute_error: 0.4336 - acc: 0.6987 - val_loss: 0.2058 - val_mean_absolute_error: 0.4301 - val_acc: 0.7081\n",
      "Epoch 10/50\n",
      "50/50 [==============================] - 7s 145ms/step - loss: 0.2062 - mean_absolute_error: 0.4260 - acc: 0.6850 - val_loss: 0.2056 - val_mean_absolute_error: 0.4272 - val_acc: 0.7087\n",
      "Epoch 11/50\n",
      "50/50 [==============================] - 7s 146ms/step - loss: 0.2028 - mean_absolute_error: 0.4224 - acc: 0.7075 - val_loss: 0.2011 - val_mean_absolute_error: 0.4198 - val_acc: 0.7181\n",
      "Epoch 12/50\n",
      "50/50 [==============================] - 7s 145ms/step - loss: 0.2001 - mean_absolute_error: 0.4159 - acc: 0.7131 - val_loss: 0.2076 - val_mean_absolute_error: 0.4251 - val_acc: 0.7069\n",
      "Epoch 13/50\n",
      "50/50 [==============================] - 7s 144ms/step - loss: 0.2055 - mean_absolute_error: 0.4188 - acc: 0.6781 - val_loss: 0.1999 - val_mean_absolute_error: 0.4167 - val_acc: 0.7269\n",
      "Epoch 14/50\n",
      "50/50 [==============================] - 7s 144ms/step - loss: 0.2023 - mean_absolute_error: 0.4170 - acc: 0.7106 - val_loss: 0.1988 - val_mean_absolute_error: 0.4172 - val_acc: 0.7212\n",
      "Epoch 15/50\n",
      "50/50 [==============================] - 7s 144ms/step - loss: 0.1974 - mean_absolute_error: 0.4117 - acc: 0.7238 - val_loss: 0.2004 - val_mean_absolute_error: 0.4147 - val_acc: 0.7212\n",
      "Epoch 16/50\n",
      "50/50 [==============================] - 6s 119ms/step - loss: 0.1947 - mean_absolute_error: 0.4052 - acc: 0.7280 - val_loss: 0.2024 - val_mean_absolute_error: 0.4122 - val_acc: 0.7126\n",
      "Epoch 17/50\n",
      "50/50 [==============================] - 6s 118ms/step - loss: 0.1996 - mean_absolute_error: 0.4114 - acc: 0.7194 - val_loss: 0.1944 - val_mean_absolute_error: 0.4064 - val_acc: 0.7300\n",
      "Epoch 18/50\n",
      "50/50 [==============================] - 6s 118ms/step - loss: 0.1989 - mean_absolute_error: 0.4116 - acc: 0.7175 - val_loss: 0.2039 - val_mean_absolute_error: 0.4158 - val_acc: 0.7188\n",
      "Epoch 19/50\n",
      "50/50 [==============================] - 6s 118ms/step - loss: 0.1963 - mean_absolute_error: 0.4077 - acc: 0.7194 - val_loss: 0.1979 - val_mean_absolute_error: 0.4077 - val_acc: 0.7175\n",
      "Epoch 20/50\n",
      "50/50 [==============================] - 6s 116ms/step - loss: 0.1909 - mean_absolute_error: 0.4010 - acc: 0.7400 - val_loss: 0.1938 - val_mean_absolute_error: 0.3982 - val_acc: 0.7360\n",
      "Epoch 21/50\n",
      "50/50 [==============================] - 6s 119ms/step - loss: 0.2007 - mean_absolute_error: 0.4086 - acc: 0.7231 - val_loss: 0.1950 - val_mean_absolute_error: 0.4040 - val_acc: 0.7244\n",
      "Epoch 22/50\n",
      "50/50 [==============================] - 6s 119ms/step - loss: 0.1929 - mean_absolute_error: 0.4029 - acc: 0.7194 - val_loss: 0.1992 - val_mean_absolute_error: 0.4053 - val_acc: 0.7125\n",
      "Epoch 23/50\n",
      "50/50 [==============================] - 6s 119ms/step - loss: 0.1896 - mean_absolute_error: 0.3934 - acc: 0.7281 - val_loss: 0.1916 - val_mean_absolute_error: 0.3995 - val_acc: 0.7369\n",
      "Epoch 24/50\n",
      "50/50 [==============================] - 6s 119ms/step - loss: 0.1928 - mean_absolute_error: 0.4003 - acc: 0.7269 - val_loss: 0.1930 - val_mean_absolute_error: 0.3976 - val_acc: 0.7360\n",
      "Epoch 25/50\n",
      "50/50 [==============================] - 6s 116ms/step - loss: 0.1883 - mean_absolute_error: 0.3946 - acc: 0.7425 - val_loss: 0.1962 - val_mean_absolute_error: 0.4027 - val_acc: 0.7344\n",
      "Epoch 26/50\n",
      "50/50 [==============================] - 6s 118ms/step - loss: 0.1892 - mean_absolute_error: 0.3964 - acc: 0.7344 - val_loss: 0.1858 - val_mean_absolute_error: 0.3868 - val_acc: 0.7388\n",
      "Epoch 27/50\n",
      "50/50 [==============================] - 6s 117ms/step - loss: 0.1888 - mean_absolute_error: 0.3909 - acc: 0.7463 - val_loss: 0.1946 - val_mean_absolute_error: 0.4038 - val_acc: 0.7269\n",
      "Epoch 28/50\n",
      "50/50 [==============================] - 6s 118ms/step - loss: 0.1896 - mean_absolute_error: 0.3949 - acc: 0.7412 - val_loss: 0.1864 - val_mean_absolute_error: 0.3939 - val_acc: 0.7468\n",
      "Epoch 29/50\n",
      "50/50 [==============================] - 6s 119ms/step - loss: 0.1875 - mean_absolute_error: 0.3912 - acc: 0.7431 - val_loss: 0.1912 - val_mean_absolute_error: 0.3915 - val_acc: 0.7362\n",
      "Epoch 30/50\n",
      "50/50 [==============================] - 6s 118ms/step - loss: 0.1842 - mean_absolute_error: 0.3857 - acc: 0.7500 - val_loss: 0.1900 - val_mean_absolute_error: 0.3973 - val_acc: 0.7450\n",
      "Epoch 31/50\n",
      "50/50 [==============================] - 6s 116ms/step - loss: 0.1907 - mean_absolute_error: 0.3938 - acc: 0.7193 - val_loss: 0.1903 - val_mean_absolute_error: 0.4021 - val_acc: 0.7405\n",
      "Epoch 32/50\n",
      "50/50 [==============================] - 6s 119ms/step - loss: 0.1828 - mean_absolute_error: 0.3870 - acc: 0.7588 - val_loss: 0.1892 - val_mean_absolute_error: 0.3953 - val_acc: 0.7388\n",
      "Epoch 33/50\n",
      "50/50 [==============================] - 6s 118ms/step - loss: 0.1813 - mean_absolute_error: 0.3838 - acc: 0.7519 - val_loss: 0.1777 - val_mean_absolute_error: 0.3799 - val_acc: 0.7650\n",
      "Epoch 34/50\n",
      "50/50 [==============================] - 6s 117ms/step - loss: 0.1825 - mean_absolute_error: 0.3861 - acc: 0.7500 - val_loss: 0.1909 - val_mean_absolute_error: 0.3959 - val_acc: 0.7456\n",
      "Epoch 35/50\n",
      "50/50 [==============================] - 6s 116ms/step - loss: 0.1851 - mean_absolute_error: 0.3860 - acc: 0.7463 - val_loss: 0.1863 - val_mean_absolute_error: 0.3897 - val_acc: 0.7341\n",
      "Epoch 36/50\n",
      "50/50 [==============================] - 6s 119ms/step - loss: 0.1796 - mean_absolute_error: 0.3812 - acc: 0.7531 - val_loss: 0.1852 - val_mean_absolute_error: 0.3785 - val_acc: 0.7375\n",
      "Epoch 37/50\n",
      "50/50 [==============================] - 6s 119ms/step - loss: 0.1802 - mean_absolute_error: 0.3796 - acc: 0.7537 - val_loss: 0.1808 - val_mean_absolute_error: 0.3795 - val_acc: 0.7506\n",
      "Epoch 38/50\n",
      "50/50 [==============================] - 6s 117ms/step - loss: 0.1825 - mean_absolute_error: 0.3817 - acc: 0.7525 - val_loss: 0.1917 - val_mean_absolute_error: 0.3932 - val_acc: 0.7356\n",
      "Epoch 39/50\n",
      "50/50 [==============================] - 6s 118ms/step - loss: 0.1757 - mean_absolute_error: 0.3726 - acc: 0.7669 - val_loss: 0.1817 - val_mean_absolute_error: 0.3828 - val_acc: 0.7678\n",
      "Epoch 40/50\n",
      "50/50 [==============================] - 6s 119ms/step - loss: 0.1805 - mean_absolute_error: 0.3784 - acc: 0.7681 - val_loss: 0.1887 - val_mean_absolute_error: 0.3885 - val_acc: 0.7375\n",
      "Epoch 41/50\n",
      "50/50 [==============================] - 6s 118ms/step - loss: 0.1746 - mean_absolute_error: 0.3677 - acc: 0.7500 - val_loss: 0.1851 - val_mean_absolute_error: 0.3783 - val_acc: 0.7525\n",
      "Epoch 42/50\n",
      "50/50 [==============================] - 6s 119ms/step - loss: 0.1818 - mean_absolute_error: 0.3789 - acc: 0.7537 - val_loss: 0.1739 - val_mean_absolute_error: 0.3703 - val_acc: 0.7619\n"
     ]
    },
    {
     "name": "stdout",
     "output_type": "stream",
     "text": [
      "Epoch 43/50\n",
      "50/50 [==============================] - 6s 119ms/step - loss: 0.1831 - mean_absolute_error: 0.3836 - acc: 0.7631 - val_loss: 0.1859 - val_mean_absolute_error: 0.3881 - val_acc: 0.7449\n",
      "Epoch 44/50\n",
      "50/50 [==============================] - 6s 118ms/step - loss: 0.1813 - mean_absolute_error: 0.3802 - acc: 0.7450 - val_loss: 0.1811 - val_mean_absolute_error: 0.3827 - val_acc: 0.7556\n",
      "Epoch 45/50\n",
      "50/50 [==============================] - 6s 118ms/step - loss: 0.1755 - mean_absolute_error: 0.3719 - acc: 0.7662 - val_loss: 0.1753 - val_mean_absolute_error: 0.3710 - val_acc: 0.7575\n",
      "Epoch 46/50\n",
      "50/50 [==============================] - 6s 119ms/step - loss: 0.1803 - mean_absolute_error: 0.3784 - acc: 0.7488 - val_loss: 0.1798 - val_mean_absolute_error: 0.3792 - val_acc: 0.7575\n",
      "Epoch 47/50\n",
      "50/50 [==============================] - 6s 117ms/step - loss: 0.1716 - mean_absolute_error: 0.3660 - acc: 0.7734 - val_loss: 0.1778 - val_mean_absolute_error: 0.3706 - val_acc: 0.7551\n",
      "Epoch 48/50\n",
      "50/50 [==============================] - 6s 118ms/step - loss: 0.1752 - mean_absolute_error: 0.3714 - acc: 0.7594 - val_loss: 0.1790 - val_mean_absolute_error: 0.3777 - val_acc: 0.7594\n",
      "Epoch 49/50\n",
      "50/50 [==============================] - 6s 117ms/step - loss: 0.1739 - mean_absolute_error: 0.3652 - acc: 0.7562 - val_loss: 0.1801 - val_mean_absolute_error: 0.3725 - val_acc: 0.7438\n",
      "Epoch 50/50\n",
      "50/50 [==============================] - 6s 116ms/step - loss: 0.1768 - mean_absolute_error: 0.3718 - acc: 0.7656 - val_loss: 0.1774 - val_mean_absolute_error: 0.3674 - val_acc: 0.7575\n"
     ]
    }
   ],
   "source": [
    "# Training the model!\n",
    "history = model.fit_generator(data_tr,\n",
    "                    epochs=50,\n",
    "                    validation_data=data_val,\n",
    "                    steps_per_epoch=50,\n",
    "                    validation_steps=50)"
   ]
  },
  {
   "cell_type": "code",
   "execution_count": 11,
   "metadata": {
    "scrolled": true
   },
   "outputs": [
    {
     "data": {
      "text/plain": [
       "[0.5975,\n",
       " 0.64625,\n",
       " 0.66125,\n",
       " 0.6491116751269036,\n",
       " 0.688125,\n",
       " 0.7075,\n",
       " 0.69,\n",
       " 0.6986040609137056,\n",
       " 0.708125,\n",
       " 0.70875,\n",
       " 0.718125,\n",
       " 0.7068527918781726,\n",
       " 0.726875,\n",
       " 0.72125,\n",
       " 0.72125,\n",
       " 0.7125634517766497,\n",
       " 0.73,\n",
       " 0.71875,\n",
       " 0.7175,\n",
       " 0.7360406091370558,\n",
       " 0.724375,\n",
       " 0.7125,\n",
       " 0.736875,\n",
       " 0.7360406091370558,\n",
       " 0.734375,\n",
       " 0.73875,\n",
       " 0.726875,\n",
       " 0.7468274111675127,\n",
       " 0.73625,\n",
       " 0.745,\n",
       " 0.7404822335025381,\n",
       " 0.73875,\n",
       " 0.765,\n",
       " 0.745625,\n",
       " 0.7341370558375635,\n",
       " 0.7375,\n",
       " 0.750625,\n",
       " 0.735625,\n",
       " 0.7677664974619289,\n",
       " 0.7375,\n",
       " 0.7525,\n",
       " 0.761875,\n",
       " 0.7449238578680203,\n",
       " 0.755625,\n",
       " 0.7575,\n",
       " 0.7575,\n",
       " 0.7550761421319797,\n",
       " 0.759375,\n",
       " 0.74375,\n",
       " 0.7575]"
      ]
     },
     "execution_count": 11,
     "metadata": {},
     "output_type": "execute_result"
    }
   ],
   "source": [
    "# Results of the model over epochs\n",
    "history.history['val_acc'] \n",
    "# history.history['loss']"
   ]
  },
  {
   "cell_type": "code",
   "execution_count": 20,
   "metadata": {},
   "outputs": [
    {
     "data": {
      "text/plain": [
       "Text(0, 0.5, 'Validation Accuracy')"
      ]
     },
     "execution_count": 20,
     "metadata": {},
     "output_type": "execute_result"
    },
    {
     "data": {
      "image/png": "[encoded data removed]",
      "text/plain": [
       "<Figure size 432x288 with 1 Axes>"
      ]
     },
     "metadata": {
      "needs_background": "light"
     },
     "output_type": "display_data"
    }
   ],
   "source": [
    "plt.figure()\n",
    "plt.plot(range(len(history.history['val_acc'])), history.history['val_acc'])\n",
    "plt.xlabel('Epoch')\n",
    "plt.ylabel('Validation Accuracy')"
   ]
  },
  {
   "cell_type": "code",
   "execution_count": 13,
   "metadata": {},
   "outputs": [],
   "source": [
    "## Evaluate\n",
    "loss_and_metrics = model.evaluate_generator(data_te, steps=50)"
   ]
  },
  {
   "cell_type": "code",
   "execution_count": null,
   "metadata": {},
   "outputs": [],
   "source": [
    "# ### Useful\n",
    "# model.save(model_path) # Save your weights and computational graph\n",
    "# load_model(file_name) # loading the saved model from above\n",
    "# keras.layers.Reshape()"
   ]
  },
  {
   "cell_type": "code",
   "execution_count": 14,
   "metadata": {},
   "outputs": [
    {
     "data": {
      "text/plain": [
       "[0.1799535171687603, 0.37113656878471374, 0.743125]"
      ]
     },
     "execution_count": 14,
     "metadata": {},
     "output_type": "execute_result"
    }
   ],
   "source": [
    "loss_and_metrics"
   ]
  },
  {
   "cell_type": "code",
   "execution_count": 15,
   "metadata": {},
   "outputs": [
    {
     "data": {
      "text/plain": [
       "['loss', 'mean_absolute_error', 'acc']"
      ]
     },
     "execution_count": 15,
     "metadata": {},
     "output_type": "execute_result"
    }
   ],
   "source": [
    "model.metrics_names"
   ]
  },
  {
   "cell_type": "code",
   "execution_count": 16,
   "metadata": {},
   "outputs": [],
   "source": [
    "model.save('simple_nn_baseline.h5')"
   ]
  },
  {
   "cell_type": "markdown",
   "metadata": {},
   "source": [
    "## Simple NN Evaluation\n",
    "\n",
    "We split our data into 50%-50% train/test groups. The train group is further split into training (80%) and validation (20%).\n",
    "\n",
    "At the end of the first round of training (steps of 50 per epoch; 50 epochs), the validation accuracy was 75.75%. We evaluated the fitted model on the test data, and got an accuracy of 74.3%.\n",
    "\n",
    "The accuracies are basically identical; our model is definitely not overfit. The model's validation accuracy seems to plateau around this 75% mark. \n",
    "\n"
   ]
  },
  {
   "cell_type": "code",
   "execution_count": null,
   "metadata": {},
   "outputs": [],
   "source": []
  },
  {
   "cell_type": "code",
   "execution_count": null,
   "metadata": {},
   "outputs": [],
   "source": []
  },
  {
   "cell_type": "code",
   "execution_count": null,
   "metadata": {},
   "outputs": [],
   "source": []
  },
  {
   "cell_type": "code",
   "execution_count": null,
   "metadata": {},
   "outputs": [],
   "source": []
  },
  {
   "cell_type": "code",
   "execution_count": null,
   "metadata": {},
   "outputs": [],
   "source": []
  },
  {
   "cell_type": "code",
   "execution_count": null,
   "metadata": {},
   "outputs": [],
   "source": []
  },
  {
   "cell_type": "code",
   "execution_count": null,
   "metadata": {},
   "outputs": [],
   "source": []
  },
  {
   "cell_type": "code",
   "execution_count": null,
   "metadata": {},
   "outputs": [],
   "source": []
  },
  {
   "cell_type": "code",
   "execution_count": null,
   "metadata": {},
   "outputs": [],
   "source": []
  },
  {
   "cell_type": "code",
   "execution_count": null,
   "metadata": {},
   "outputs": [],
   "source": []
  },
  {
   "cell_type": "code",
   "execution_count": null,
   "metadata": {},
   "outputs": [],
   "source": []
  },
  {
   "cell_type": "code",
   "execution_count": null,
   "metadata": {},
   "outputs": [],
   "source": []
  },
  {
   "cell_type": "code",
   "execution_count": null,
   "metadata": {},
   "outputs": [],
   "source": []
  },
  {
   "cell_type": "code",
   "execution_count": null,
   "metadata": {},
   "outputs": [],
   "source": []
  },
  {
   "cell_type": "code",
   "execution_count": null,
   "metadata": {},
   "outputs": [],
   "source": []
  },
  {
   "cell_type": "code",
   "execution_count": null,
   "metadata": {},
   "outputs": [],
   "source": []
  }
 ],
 "metadata": {
  "kernelspec": {
   "display_name": "Python 3",
   "language": "python",
   "name": "python3"
  },
  "language_info": {
   "codemirror_mode": {
    "name": "ipython",
    "version": 3
   },
   "file_extension": ".py",
   "mimetype": "text/x-python",
   "name": "python",
   "nbconvert_exporter": "python",
   "pygments_lexer": "ipython3",
   "version": "3.7.3"
  }
 },
 "nbformat": 4,
 "nbformat_minor": 2
}
