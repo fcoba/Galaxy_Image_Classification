{
 "cells": [
  {
   "cell_type": "code",
   "execution_count": 6,
   "metadata": {},
   "outputs": [],
   "source": [
    "import glob\n",
    "import os\n",
    "from tqdm import tqdm\n"
   ]
  },
  {
   "cell_type": "markdown",
   "metadata": {},
   "source": [
    "## Make the \"train\" and \"test\" directories, where we want to move our images"
   ]
  },
  {
   "cell_type": "code",
   "execution_count": 12,
   "metadata": {},
   "outputs": [],
   "source": [
    "# os.mkdir('data/train/')\n",
    "# os.mkdir('data/test/')"
   ]
  },
  {
   "cell_type": "markdown",
   "metadata": {},
   "source": [
    "## Move the images\n",
    "\n",
    "1. Loop through all filenames. Remove the `data/` from the path to get the filename.\n",
    "2. Move them"
   ]
  },
  {
   "cell_type": "code",
   "execution_count": 2,
   "metadata": {},
   "outputs": [],
   "source": [
    "# split_index = len(file_list) // 2"
   ]
  },
  {
   "cell_type": "code",
   "execution_count": 18,
   "metadata": {},
   "outputs": [
    {
     "data": {
      "text/html": [
       "<div>\n",
       "<style scoped>\n",
       "    .dataframe tbody tr th:only-of-type {\n",
       "        vertical-align: middle;\n",
       "    }\n",
       "\n",
       "    .dataframe tbody tr th {\n",
       "        vertical-align: top;\n",
       "    }\n",
       "\n",
       "    .dataframe thead th {\n",
       "        text-align: right;\n",
       "    }\n",
       "</style>\n",
       "<table border=\"1\" class=\"dataframe\">\n",
       "  <thead>\n",
       "    <tr style=\"text-align: right;\">\n",
       "      <th></th>\n",
       "      <th>GalaxyID</th>\n",
       "      <th>Elliptical</th>\n",
       "      <th>Spiral</th>\n",
       "      <th>Irregular</th>\n",
       "    </tr>\n",
       "  </thead>\n",
       "  <tbody>\n",
       "    <tr>\n",
       "      <th>0</th>\n",
       "      <td>100008</td>\n",
       "      <td>0.383147</td>\n",
       "      <td>0.616853</td>\n",
       "      <td>0.000000</td>\n",
       "    </tr>\n",
       "    <tr>\n",
       "      <th>1</th>\n",
       "      <td>100023</td>\n",
       "      <td>0.327001</td>\n",
       "      <td>0.663777</td>\n",
       "      <td>0.009222</td>\n",
       "    </tr>\n",
       "    <tr>\n",
       "      <th>2</th>\n",
       "      <td>100053</td>\n",
       "      <td>0.765717</td>\n",
       "      <td>0.177352</td>\n",
       "      <td>0.056931</td>\n",
       "    </tr>\n",
       "    <tr>\n",
       "      <th>3</th>\n",
       "      <td>100078</td>\n",
       "      <td>0.693377</td>\n",
       "      <td>0.238564</td>\n",
       "      <td>0.068059</td>\n",
       "    </tr>\n",
       "    <tr>\n",
       "      <th>4</th>\n",
       "      <td>100090</td>\n",
       "      <td>0.933839</td>\n",
       "      <td>0.000000</td>\n",
       "      <td>0.066161</td>\n",
       "    </tr>\n",
       "  </tbody>\n",
       "</table>\n",
       "</div>"
      ],
      "text/plain": [
       "   GalaxyID  Elliptical    Spiral  Irregular\n",
       "0    100008    0.383147  0.616853   0.000000\n",
       "1    100023    0.327001  0.663777   0.009222\n",
       "2    100053    0.765717  0.177352   0.056931\n",
       "3    100078    0.693377  0.238564   0.068059\n",
       "4    100090    0.933839  0.000000   0.066161"
      ]
     },
     "execution_count": 18,
     "metadata": {},
     "output_type": "execute_result"
    }
   ],
   "source": [
    "import pandas as pd\n",
    "predictions = pd.read_csv('predictions.csv')\n",
    "predictions = predictions[['GalaxyID','Class1.1', 'Class1.2', 'Class1.3']]\n",
    "predictions.columns = ['GalaxyID', 'Elliptical', 'Spiral', 'Irregular']\n",
    "predictions.head()"
   ]
  },
  {
   "cell_type": "code",
   "execution_count": 19,
   "metadata": {},
   "outputs": [],
   "source": [
    "os.mkdir('data/train/elliptical')\n",
    "os.mkdir('data/train/spiral')\n",
    "os.mkdir('data/train/irregular')\n",
    "os.mkdir('data/test/elliptical')\n",
    "os.mkdir('data/test/spiral')\n",
    "os.mkdir('data/test/irregular')"
   ]
  },
  {
   "cell_type": "code",
   "execution_count": 53,
   "metadata": {},
   "outputs": [
    {
     "data": {
      "text/plain": [
       "30789"
      ]
     },
     "execution_count": 53,
     "metadata": {},
     "output_type": "execute_result"
    }
   ],
   "source": [
    "split_index"
   ]
  },
  {
   "cell_type": "code",
   "execution_count": 56,
   "metadata": {},
   "outputs": [],
   "source": [
    "cols = ['Elliptical', 'Spiral', 'Irregular']\n",
    "# SO SLOW\n",
    "for i, galaxyId in enumerate(list(predictions['GalaxyID'])):\n",
    "    filename = str(galaxyId) + '.jpg'\n",
    "    old_path = 'data/' + filename\n",
    "    row = predictions.iloc[i]\n",
    "    prediction = row[['Elliptical', 'Spiral', 'Irregular']]\n",
    "    if (i < split_index):\n",
    "        # cols[prediction.values.argmax()].lower = either elliptical, spiral, or irregular, depending\n",
    "        # on the predictions dataframe\n",
    "        new_path = 'data/train/' + cols[prediction.values.argmax()].lower() + '/' + filename\n",
    "    else:\n",
    "        new_path = 'data/test/' + cols[prediction.values.argmax()].lower() + '/' + filename\n",
    "    os.rename(old_path, new_path)"
   ]
  },
  {
   "cell_type": "markdown",
   "metadata": {},
   "source": [
    "## Testing out the code we need for the above for-loop"
   ]
  },
  {
   "cell_type": "code",
   "execution_count": 25,
   "metadata": {},
   "outputs": [],
   "source": [
    "row = predictions.iloc[1]\n",
    "prediction = row[['Elliptical', 'Spiral', 'Irregular']]"
   ]
  },
  {
   "cell_type": "code",
   "execution_count": 31,
   "metadata": {},
   "outputs": [
    {
     "data": {
      "text/plain": [
       "'spiral'"
      ]
     },
     "execution_count": 31,
     "metadata": {},
     "output_type": "execute_result"
    }
   ],
   "source": [
    "cols = ['Elliptical', 'Spiral', 'Irregular']\n",
    "cols[prediction.values.argmax()].lower()"
   ]
  },
  {
   "cell_type": "code",
   "execution_count": 57,
   "metadata": {},
   "outputs": [
    {
     "name": "stdout",
     "output_type": "stream",
     "text": [
      "num in train elliptical = 13237\n",
      "num in train spiral = 17526\n",
      "num in train irregular = 26\n",
      "num in test elliptical = 13456\n",
      "num in test spiral = 17300\n",
      "num in test irregular = 33\n"
     ]
    }
   ],
   "source": [
    "print('num in train elliptical = {}'.format(len(os.listdir('data/train/elliptical/'))))\n",
    "print('num in train spiral = {}'.format(len(os.listdir('data/train/spiral/'))))\n",
    "print('num in train irregular = {}'.format(len(os.listdir('data/train/irregular/'))))\n",
    "print('num in test elliptical = {}'.format(len(os.listdir('data/test/elliptical/'))))\n",
    "print('num in test spiral = {}'.format(len(os.listdir('data/test/spiral/'))))\n",
    "print('num in test irregular = {}'.format(len(os.listdir('data/test/irregular/'))))"
   ]
  },
  {
   "cell_type": "code",
   "execution_count": null,
   "metadata": {},
   "outputs": [],
   "source": []
  }
 ],
 "metadata": {
  "kernelspec": {
   "display_name": "Python 3",
   "language": "python",
   "name": "python3"
  },
  "language_info": {
   "codemirror_mode": {
    "name": "ipython",
    "version": 3
   },
   "file_extension": ".py",
   "mimetype": "text/x-python",
   "name": "python",
   "nbconvert_exporter": "python",
   "pygments_lexer": "ipython3",
   "version": "3.7.3"
  }
 },
 "nbformat": 4,
 "nbformat_minor": 2
}
